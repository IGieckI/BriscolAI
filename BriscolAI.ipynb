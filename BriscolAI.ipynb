{
  "nbformat": 4,
  "nbformat_minor": 0,
  "metadata": {
    "colab": {
      "provenance": [],
      "authorship_tag": "ABX9TyOWOIiXdtbP6Z8yWwxeqPn/",
      "include_colab_link": true
    },
    "kernelspec": {
      "name": "python3",
      "display_name": "Python 3"
    },
    "language_info": {
      "name": "python"
    }
  },
  "cells": [
    {
      "cell_type": "markdown",
      "metadata": {
        "id": "view-in-github",
        "colab_type": "text"
      },
      "source": [
        "<a href=\"https://colab.research.google.com/github/IGieckI/BriscolAI/blob/main/BriscolAI.ipynb\" target=\"_parent\"><img src=\"https://colab.research.google.com/assets/colab-badge.svg\" alt=\"Open In Colab\"/></a>"
      ]
    },
    {
      "cell_type": "code",
      "source": [
        "class Card:\n",
        "    def __init__(self, rank, suit):\n",
        "        self.rank = rank\n",
        "        self.suit = suit\n",
        "\n",
        "    def __str__(self):\n",
        "        return f\"{self.rank} of {self.suit}\"\n",
        "\n",
        "\n",
        "def create_deck():\n",
        "    ranks = [\"Ace\", \"Two\", \"Three\", \"Four\", \"Five\", \"Six\", \"Seven\", \"Knave\", \"Knight\", \"King\"]\n",
        "    suits = [\"Cups\", \"Denari\", \"Swords\", \"Sticks\"]\n",
        "    deck = [Card(rank, suit) for rank in ranks for suit in suits]\n",
        "    return deck"
      ],
      "metadata": {
        "id": "uHxMGD3qfN4z"
      },
      "execution_count": 3,
      "outputs": []
    },
    {
      "cell_type": "code",
      "source": [
        "class Briscola():\n",
        "\n",
        "    def __init__(self):\n",
        "        \"\"\"\n",
        "        Generate the deck and give three cards each player\n",
        "        \"\"\"\n",
        "        deck = create_deck()\n",
        "\n",
        "        p1_hand = self.draw_card()\n",
        "        p1_hand = self.draw_card()\n",
        "        p1_hand = self.draw_card()\n",
        "\n",
        "        p2_hand = self.draw_card()\n",
        "        p2_hand = self.draw_card()\n",
        "        p2_hand = self.draw_card()\n",
        "\n",
        "        p1_score, p2_score = 0, 0\n",
        "\n",
        "        self.state = {\"p1_score\": p1_score, \"p2_score\": p2_score}\n",
        "        self.actions = (\"card1\", \"card2\", \"card3\")\n",
        "\n",
        "        init_state = self.state.copy()\n",
        "        self.history = [init_state]\n"
      ],
      "metadata": {
        "id": "KGrs0u20hn6k"
      },
      "execution_count": 5,
      "outputs": []
    }
  ]
}