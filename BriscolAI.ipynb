{
  "nbformat": 4,
  "nbformat_minor": 0,
  "metadata": {
    "colab": {
      "provenance": [],
      "authorship_tag": "ABX9TyPL0gHOzj4gFTNhjn5hTFKe",
      "include_colab_link": true
    },
    "kernelspec": {
      "name": "python3",
      "display_name": "Python 3"
    },
    "language_info": {
      "name": "python"
    }
  },
  "cells": [
    {
      "cell_type": "markdown",
      "metadata": {
        "id": "view-in-github",
        "colab_type": "text"
      },
      "source": [
        "<a href=\"https://colab.research.google.com/github/IGieckI/BriscolAI/blob/main/BriscolAI.ipynb\" target=\"_parent\"><img src=\"https://colab.research.google.com/assets/colab-badge.svg\" alt=\"Open In Colab\"/></a>"
      ]
    },
    {
      "cell_type": "code",
      "source": [
        "class Card:\n",
        "    def __init__(self, rank, suit):\n",
        "        self.rank = rank\n",
        "        self.suit = suit\n",
        "\n",
        "    def __str__(self):\n",
        "        return f\"{self.rank} of {self.suit}\"\n",
        "\n",
        "\n",
        "def create_deck():\n",
        "    ranks = [\"Ace\", \"Two\", \"Three\", \"Four\", \"Five\", \"Six\", \"Seven\", \"Knave\", \"Knight\", \"King\"]\n",
        "    suits = [\"Cups\", \"Denari\", \"Swords\", \"Sticks\"]\n",
        "    deck = [Card(rank, suit) for rank in ranks for suit in suits]\n",
        "    return deck"
      ],
      "metadata": {
        "id": "uHxMGD3qfN4z"
      },
      "execution_count": 3,
      "outputs": []
    }
  ]
}