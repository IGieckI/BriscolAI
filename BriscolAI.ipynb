{
  "nbformat": 4,
  "nbformat_minor": 0,
  "metadata": {
    "colab": {
      "provenance": [],
      "authorship_tag": "ABX9TyPCOoQPchDWsNxtMGEKrLi2",
      "include_colab_link": true
    },
    "kernelspec": {
      "name": "python3",
      "display_name": "Python 3"
    },
    "language_info": {
      "name": "python"
    }
  },
  "cells": [
    {
      "cell_type": "markdown",
      "metadata": {
        "id": "view-in-github",
        "colab_type": "text"
      },
      "source": [
        "<a href=\"https://colab.research.google.com/github/IGieckI/BriscolAI/blob/main/BriscolAI.ipynb\" target=\"_parent\"><img src=\"https://colab.research.google.com/assets/colab-badge.svg\" alt=\"Open In Colab\"/></a>"
      ]
    },
    {
      "cell_type": "code",
      "source": [
        "import numpy as np\n",
        "import random"
      ],
      "metadata": {
        "id": "zT1ofZKnU84E"
      },
      "execution_count": null,
      "outputs": []
    },
    {
      "cell_type": "code",
      "source": [
        "class Card:\n",
        "    def __init__(self, rank, seed):\n",
        "        self.rank = rank\n",
        "        self.seed = seed\n",
        "\n",
        "    def __str__(self):\n",
        "        return f\"{self.rank} of {self.seed}\"\n",
        "\n",
        "    def get_value(self):\n",
        "        \"\"\"\n",
        "        Get the point value of the card based on its rank\n",
        "        \"\"\"\n",
        "        point_values = {\n",
        "            \"Ace\": 11,\n",
        "            \"Two\": 0,\n",
        "            \"Three\": 10,\n",
        "            \"Four\": 0,\n",
        "            \"Five\": 0,\n",
        "            \"Six\": 0,\n",
        "            \"Seven\": 0,\n",
        "            \"Knave\": 2,\n",
        "            \"Knight\": 3,\n",
        "            \"King\": 4,\n",
        "        }\n",
        "        return point_values.get(self.rank)\n",
        "\n",
        "    def compare_cards(self, other_card):\n",
        "        \"\"\"\n",
        "        Compare two cards of the same seed to determine the winner based on their ranks\n",
        "\n",
        "        Args:\n",
        "            other_card : Card, The other card to compare\n",
        "\n",
        "        Returns:\n",
        "            Card: The winner card\n",
        "        \"\"\"\n",
        "        if self.get_point_value() > other_card.get_point_value():\n",
        "            return self\n",
        "        else:\n",
        "            return other_card\n",
        "\n",
        "    def create_deck():\n",
        "        ranks = [\"Ace\", \"Two\", \"Three\", \"Four\", \"Five\", \"Six\", \"Seven\", \"Knave\", \"Knight\", \"King\"]\n",
        "        seeds = [\"Cups\", \"Denari\", \"Swords\", \"Sticks\"]\n",
        "        deck = [Card(rank, seed) for rank in ranks for seed in seeds]\n",
        "        return deck"
      ],
      "metadata": {
        "id": "uHxMGD3qfN4z"
      },
      "execution_count": null,
      "outputs": []
    },
    {
      "cell_type": "code",
      "source": [
        "class Briscola():\n",
        "\n",
        "    def __init__(self):\n",
        "        \"\"\"\n",
        "        Generate the deck, choose a briscola and give three cards each player\n",
        "        \"\"\"\n",
        "        self.deck = Card.create_deck()\n",
        "\n",
        "        self.p1_hand = []\n",
        "        self.p2_hand = []\n",
        "\n",
        "        briscola = self.drawCard()\n",
        "\n",
        "        self.p1_hand.append(self.drawCard())\n",
        "        self.p1_hand.append(self.drawCard())\n",
        "        self.p1_hand.append(self.drawCard())\n",
        "\n",
        "        self.p2_hand.append(self.drawCard())\n",
        "        self.p2_hand.append(self.drawCard())\n",
        "        self.p2_hand.append(self.drawCard())\n",
        "\n",
        "        p1_score, p2_score = 0, 0\n",
        "\n",
        "        self.state = {\"ai_hand\": self.p1_hand,\n",
        "                      \"briscola\": briscola,\n",
        "                      \"turn\": \"p1\" if random.randint(0, 1) == 0 else \"p2\",\n",
        "                      \"played_card\": None,\n",
        "                      \"played_cards\": []}\n",
        "        self.actions = (self.p1_hand[0], self.p1_hand[1], self.p1_hand[2])\n",
        "\n",
        "        init_state = self.state.copy()\n",
        "        self.history = [init_state]\n",
        "\n",
        "    def drawCard(self):\n",
        "        \"\"\"\n",
        "        Each player draw from the deck taking out cards from the deck list\n",
        "        \"\"\"\n",
        "        if len(self.deck) == 0:\n",
        "          return []\n",
        "\n",
        "        if len(self.deck) == 1 and self.briscola not in self.deck:\n",
        "          self.deck.append(self.briscola)\n",
        "\n",
        "        return self.deck.pop(0)\n",
        "\n",
        "    def fight(self, first_card, second_card):\n",
        "        \"\"\"\n",
        "        Tells who win between the two cards\n",
        "\n",
        "        Args:\n",
        "            first_card : Card, first card played\n",
        "            second_card : Card, second card played\n",
        "\n",
        "        Returns:\n",
        "            Card : The winner Card\n",
        "        \"\"\"\n",
        "\n",
        "        if first_card.seed == second_card.seed:\n",
        "          return first_card.compare_cards(second_card)\n",
        "\n",
        "        if first_card.seed == self.briscola.seed:\n",
        "          return first_card\n",
        "\n",
        "        if second_card.seed == self.briscola.seed:\n",
        "          return second_card\n",
        "\n",
        "        return first_card\n",
        "\n",
        "    def getActions():\n",
        "        return 40\n",
        "\n",
        "    def getStates():\n",
        "        return None\n",
        "\n",
        "    def getValidActions():\n",
        "        return self.p1_hand\n",
        "\n",
        "    def state(action):\n",
        "      return None"
      ],
      "metadata": {
        "id": "KGrs0u20hn6k",
        "colab": {
          "base_uri": "https://localhost:8080/"
        },
        "outputId": "f4551b51-7243-4d9b-c6bb-75b19e2b3261"
      },
      "execution_count": null,
      "outputs": [
        {
          "output_type": "stream",
          "name": "stderr",
          "text": [
            "/usr/local/lib/python3.10/dist-packages/ipykernel/ipkernel.py:283: DeprecationWarning: `should_run_async` will not call `transform_cell` automatically in the future. Please pass the result to `transformed_cell` argument and any exception that happen during thetransform in `preprocessing_exc_tuple` in IPython 7.17 and above.\n",
            "  and should_run_async(code)\n"
          ]
        }
      ]
    },
    {
      "cell_type": "code",
      "source": [
        "action_size = len(Briscola.getActions())\n",
        "state_size = len(env.getStates())\n",
        "\n",
        "qtable = np.zeros((state_size, action_size))"
      ],
      "metadata": {
        "id": "oAkDizEcRRa0"
      },
      "execution_count": null,
      "outputs": []
    },
    {
      "cell_type": "code",
      "source": [
        "total_episodes = 100000        # Total episodes\n",
        "learning_rate = 0.1           # Learning rate\n",
        "max_steps = 100                # Max steps per episode\n",
        "gamma = 0.99                  # Discounting rate\n",
        "\n",
        "# Exploration parameters\n",
        "epsilon = 1.0                 # Exploration rate\n",
        "max_epsilon = 1.0             # Exploration probability at start\n",
        "min_epsilon = 0.01            # Minimum exploration probability\n",
        "decay_rate = 0.001             # Exponential decay rate for exploration prob"
      ],
      "metadata": {
        "id": "ZCaXiGwrRYNM"
      },
      "execution_count": null,
      "outputs": []
    },
    {
      "cell_type": "code",
      "source": [
        "# List of rewards\n",
        "rewards = []\n",
        "\n",
        "for episode in range(total_episodes):\n",
        "    # Reset the environment\n",
        "    state = Briscola()\n",
        "    step = 0\n",
        "    done = False\n",
        "    total_rewards = 0\n",
        "\n",
        "    for step in range(max_steps):\n",
        "        exp_exp_tradeoff = random.uniform(0, 1)\n",
        "\n",
        "        ## If the random si greater than epsilon i'll take the biggest Q value for this state otherwise a random one\n",
        "        if exp_exp_tradeoff > epsilon:\n",
        "            action = np.argmax(qtable[state,:])\n",
        "        else:\n",
        "            action = Briscola.getValidActions.sample()\n",
        "\n",
        "        new_state, reward, done, info = Briscola.step(action)\n",
        "\n",
        "        # Update the qtable, the rewards and the current state\n",
        "        qtable[state, action] = qtable[state, action] + learning_rate * (reward + gamma * np.max(qtable[new_state, :]) - qtable[state, action])\n",
        "        total_rewards += reward\n",
        "        state = new_state\n",
        "\n",
        "        # Check finish\n",
        "        if done == True:\n",
        "            break\n",
        "\n",
        "    # Reduce of the espsilon factor\n",
        "    epsilon = min_epsilon + (max_epsilon - min_epsilon)*np.exp(-decay_rate*episode)\n",
        "    rewards.append(total_rewards)\n",
        "\n",
        "print (\"Score over time: \" +  str(sum(rewards)/total_episodes))\n",
        "print(qtable)"
      ],
      "metadata": {
        "id": "eQK9JPCMReHM"
      },
      "execution_count": null,
      "outputs": []
    }
  ]
}