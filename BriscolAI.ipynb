{
  "nbformat": 4,
  "nbformat_minor": 0,
  "metadata": {
    "colab": {
      "provenance": [],
      "authorship_tag": "ABX9TyM80ilpfAKtg1HrjGSgTyaV",
      "include_colab_link": true
    },
    "kernelspec": {
      "name": "python3",
      "display_name": "Python 3"
    },
    "language_info": {
      "name": "python"
    }
  },
  "cells": [
    {
      "cell_type": "markdown",
      "metadata": {
        "id": "view-in-github",
        "colab_type": "text"
      },
      "source": [
        "<a href=\"https://colab.research.google.com/github/IGieckI/BriscolAI/blob/main/BriscolAI.ipynb\" target=\"_parent\"><img src=\"https://colab.research.google.com/assets/colab-badge.svg\" alt=\"Open In Colab\"/></a>"
      ]
    },
    {
      "cell_type": "code",
      "source": [
        "class Card:\n",
        "    def __init__(self, rank, seed):\n",
        "        self.rank = rank\n",
        "        self.seed = seed\n",
        "\n",
        "    def __str__(self):\n",
        "        return f\"{self.rank} of {self.seed}\"\n",
        "\n",
        "    def get_point_value(self):\n",
        "        \"\"\"\n",
        "        Get the point value of the card based on its rank\n",
        "        \"\"\"\n",
        "        point_values = {\n",
        "            \"Ace\": 11,\n",
        "            \"Two\": 0,\n",
        "            \"Three\": 10,\n",
        "            \"Four\": 0,\n",
        "            \"Five\": 0,\n",
        "            \"Six\": 0,\n",
        "            \"Seven\": 0,\n",
        "            \"Knave\": 2,\n",
        "            \"Knight\": 3,\n",
        "            \"King\": 4,\n",
        "        }\n",
        "        return point_values.get(card.rank)\n",
        "\n",
        "def compare_cards(self, other_card):\n",
        "    \"\"\"\n",
        "    Compare two cards of the same seed to determine the winner based on their ranks\n",
        "\n",
        "    Args:\n",
        "        other_card : Card, The other card to compare\n",
        "\n",
        "    Returns:\n",
        "        Card: The winner card\n",
        "    \"\"\"\n",
        "    if self.get_point_value() > other_card.get_point_value():\n",
        "        return self\n",
        "    else:\n",
        "        return other_card\n",
        "\n",
        "def create_deck():\n",
        "    ranks = [\"Ace\", \"Two\", \"Three\", \"Four\", \"Five\", \"Six\", \"Seven\", \"Knave\", \"Knight\", \"King\"]\n",
        "    seeds = [\"Cups\", \"Denari\", \"Swords\", \"Sticks\"]\n",
        "    deck = [Card(rank, seed) for rank in ranks for seed in seeds]\n",
        "    return deck"
      ],
      "metadata": {
        "id": "uHxMGD3qfN4z"
      },
      "execution_count": 2,
      "outputs": []
    },
    {
      "cell_type": "code",
      "source": [
        "class Briscola():\n",
        "\n",
        "    def __init__(self):\n",
        "        \"\"\"\n",
        "        Generate the deck and give three cards each player\n",
        "        \"\"\"\n",
        "        deck = create_deck()\n",
        "\n",
        "        p1_hand = []\n",
        "        p2_hand = []\n",
        "\n",
        "        p1_hand.append(self.draw_card())\n",
        "        p1_hand.append(self.draw_card())\n",
        "        p1_hand.append(self.draw_card())\n",
        "\n",
        "        p2_hand.append(self.draw_card())\n",
        "        p2_hand.append(self.draw_card())\n",
        "        p2_hand.append(self.draw_card())\n",
        "\n",
        "        p1_score, p2_score = 0, 0\n",
        "\n",
        "        self.state = {\"p1_score\": p1_score, \"p2_score\": p2_score}\n",
        "        self.actions = (\"card1\", \"card2\", \"card3\")\n",
        "\n",
        "        init_state = self.state.copy()\n",
        "        self.history = [init_state]\n",
        "\n",
        "    def draw_card(self):\n",
        "        \"\"\"\n",
        "        Return a list with a single card from the deck or an empty list if the deck is empty\n",
        "        \"\"\"\n",
        "        if len(self.deck) == 0:\n",
        "          return []\n",
        "\n",
        "        return [self.deck.pop(0)]"
      ],
      "metadata": {
        "id": "KGrs0u20hn6k"
      },
      "execution_count": 3,
      "outputs": []
    }
  ]
}